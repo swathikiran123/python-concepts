{
  "nbformat": 4,
  "nbformat_minor": 0,
  "metadata": {
    "colab": {
      "provenance": []
    },
    "kernelspec": {
      "name": "python3",
      "display_name": "Python 3"
    },
    "language_info": {
      "name": "python"
    }
  },
  "cells": [
    {
      "cell_type": "markdown",
      "source": [
        "### python sequential data types\n",
        "Python Data types are the classification or categorization of data items. It represents the kind of value that tells what operations can be performed on a particular data. Since everything is an object in Python programming, Python data types are classes and variables are instances (objects) of these classes."
      ],
      "metadata": {
        "id": "VttbqAmh75dT"
      }
    },
    {
      "cell_type": "markdown",
      "source": [
        "### sequential data types in python\n",
        "* Lists:\n",
        " In Python, a list is an ordered collection of items that can be of any data type (e.g., integers, strings, floats, or even other lists). Lists are one of the most versatile and commonly used data types in Python because they allow you to store multiple items in a single variable."
      ],
      "metadata": {
        "id": "Ft21xvgo9OZj"
      }
    },
    {
      "cell_type": "code",
      "execution_count": null,
      "metadata": {
        "id": "bqyJsyrn7yWv"
      },
      "outputs": [],
      "source": [
        "# A list of integers\n",
        "numbers = [1, 2, 3, 4, 5]\n",
        "\n",
        "# A list of strings\n",
        "fruits = ['apple', 'banana', 'cherry']\n",
        "\n",
        "# A mixed list\n",
        "mixed_list = [1, 'hello', 3.14, True]\n"
      ]
    },
    {
      "cell_type": "markdown",
      "source": [
        "### Mutable Nature\n",
        " * One of the key characteristics of lists is their mutability. This means that the elements within a list can be changed after the list is created. You can modify existing elements, add new elements, or remove elements."
      ],
      "metadata": {
        "id": "ESdA9QOB-szs"
      }
    },
    {
      "cell_type": "markdown",
      "source": [
        "** List Operations **\n",
        " * Appending Elements\n",
        "  new element to the end of a list using the append() method.\n",
        "  numbers = [1, 2, 3]\n",
        "numbers.append(4)\n",
        "print(numbers)\n",
        "\n",
        "  [1, 2, 3, 4]\n",
        "\n",
        "  * Removing Elements :\n",
        " *  You can remove an element from a list using the remove() method. This method removes the first occurrence of the specified value.\n",
        "\n",
        " fruits = ['apple', 'banana', 'cherry', 'banana']\n",
        "fruits.remove('banana')\n",
        "print(fruits)\n",
        "\n",
        " ['apple', 'cherry', 'banana']\n",
        " * Modifying Elements :\n",
        " numbers = [1, 2, 3, 4, 5]\n",
        "numbers[2] = 10\n",
        "print(numbers)\n",
        "\n",
        " [1, 2, 10, 4, 5]\n",
        "\n"
      ],
      "metadata": {
        "id": "vZzbmM0GAkpk"
      }
    },
    {
      "cell_type": "markdown",
      "source": [
        "**Tuples:\n",
        "Discuss tuples as immutable sequences, highlighting their differences from lists.\n",
        "Explain when and why to use tuples, with examples.\n",
        "** Tuples**\n",
        "* Tuples in Python are similar to lists in that they are ordered collections of items. However, unlike lists, tuples are immutable."
      ],
      "metadata": {
        "id": "LXEteaNBD9lo"
      }
    },
    {
      "cell_type": "code",
      "source": [
        "# A tuple of integers\n",
        "numbers = (1, 2, 3, 4, 5)\n",
        "\n",
        "# A tuple of strings\n",
        "fruits = ('apple', 'banana', 'cherry')\n",
        "\n",
        "# A mixed tuple\n",
        "mixed_tuple = (1, 'hello', 3.14, True)\n",
        "\n",
        "# A single-item tuple (note the comma)\n",
        "single_item = (42,)\n"
      ],
      "metadata": {
        "id": "8heIFizNCAjC"
      },
      "execution_count": null,
      "outputs": []
    },
    {
      "cell_type": "markdown",
      "source": [
        "### When and Why to Use Tuples\n",
        "* Immutability for Data Integrity\n",
        "*  Returning Multiple Values from a Function\n",
        "*  Using Tuples as Dictionary Keys\n",
        "* Fixed Structure and Predictability\n",
        "* Memory Efficiency and Performance"
      ],
      "metadata": {
        "id": "8PMBDLQqIGAt"
      }
    },
    {
      "cell_type": "markdown",
      "source": [
        "### Strings as Sequences of Characters:\n",
        " * a string is a sequence of characters, where each character is an individual element of the string. These characters are ordered, meaning they have a specific position or index, starting from 0 for the first character.\n",
        " Strings in Python are immutable, which means that once a string is created, it cannot be changed. Any operation that seems to modify a string actually creates a new string instead of altering the original one. This immutability ensures that strings are consistent and secure throughout the program.\n",
        " ** Concatenation**\n",
        "Concatenation is the process of joining two or more strings together to form a single string. This is done using the`+` operator.\n",
        "* Ex: the first_name and last_name strings are combined with a space in between to create the full_name string.\n",
        "\n",
        "**Repetition**\n",
        " Repetition allows you to repeat a string multiple times using the `*` operator.\n",
        "  the string word is repeated three times to create the repeated_word string.\n",
        "\n",
        "\n"
      ],
      "metadata": {
        "id": "8VDBx-NLKRR2"
      }
    },
    {
      "cell_type": "code",
      "source": [
        "word = \"Hello\"\n",
        "repeated_word = word * 3\n",
        "print(repeated_word)\n"
      ],
      "metadata": {
        "colab": {
          "base_uri": "https://localhost:8080/"
        },
        "id": "Oips-HyRJzxn",
        "outputId": "8b86b225-4461-433e-9c9b-3bcbd9922a4b"
      },
      "execution_count": null,
      "outputs": [
        {
          "output_type": "stream",
          "name": "stdout",
          "text": [
            "HelloHelloHello\n"
          ]
        }
      ]
    },
    {
      "cell_type": "markdown",
      "source": [
        "**Accessing Characters**\n",
        "You can access individual characters in a string by using indexing, where the first character has an index of 0.\n"
      ],
      "metadata": {
        "id": "vILWSYWRNcum"
      }
    },
    {
      "cell_type": "code",
      "source": [
        "my_string = \"Python\"\n",
        "first_char = my_string[0]\n",
        "last_char = my_string[-1]\n",
        "print(first_char)\n",
        "print(last_char)\n"
      ],
      "metadata": {
        "colab": {
          "base_uri": "https://localhost:8080/"
        },
        "id": "zEqlGc7dNg-f",
        "outputId": "30accbcc-5d10-41af-9045-aeed7ecd2863"
      },
      "execution_count": null,
      "outputs": [
        {
          "output_type": "stream",
          "name": "stdout",
          "text": [
            "P\n",
            "n\n"
          ]
        }
      ]
    },
    {
      "cell_type": "markdown",
      "source": [
        "### Range\n",
        "The range type in Python is a built-in function used to generate a sequence of numbers. It's often used in loops and other contexts where you need to iterate over a series of numbers or create a list of numbers in a specific range.\n"
      ],
      "metadata": {
        "id": "ybR33S0GNvQH"
      }
    },
    {
      "cell_type": "code",
      "source": [
        "for i in range(5):\n",
        "    print(i)\n"
      ],
      "metadata": {
        "colab": {
          "base_uri": "https://localhost:8080/"
        },
        "id": "1lg7NsVrOdyv",
        "outputId": "b01ffe66-0c32-451f-b435-64a0baeb3f9d"
      },
      "execution_count": null,
      "outputs": [
        {
          "output_type": "stream",
          "name": "stdout",
          "text": [
            "0\n",
            "1\n",
            "2\n",
            "3\n",
            "4\n"
          ]
        }
      ]
    },
    {
      "cell_type": "markdown",
      "source": [
        "### use of range in loops\n"
      ],
      "metadata": {
        "id": "w7K4bwOmO4-5"
      }
    },
    {
      "cell_type": "code",
      "source": [
        "# in for loop\n",
        "for i in range(4):\n",
        "    print(i)\n"
      ],
      "metadata": {
        "colab": {
          "base_uri": "https://localhost:8080/"
        },
        "id": "kyeL7pP5P7KI",
        "outputId": "3f47f03a-f548-47e9-d20d-8ebefb743579"
      },
      "execution_count": null,
      "outputs": [
        {
          "output_type": "stream",
          "name": "stdout",
          "text": [
            "0\n",
            "1\n",
            "2\n",
            "3\n"
          ]
        }
      ]
    },
    {
      "cell_type": "code",
      "source": [
        "# in while loop\n",
        "i = 0\n",
        "while i < 4:\n",
        "    print(i)\n",
        "    i += 1\n"
      ],
      "metadata": {
        "colab": {
          "base_uri": "https://localhost:8080/"
        },
        "id": "GF_y6cEYP_Rf",
        "outputId": "f8c10e53-af08-4271-a25a-96ca7ab99e96"
      },
      "execution_count": null,
      "outputs": [
        {
          "output_type": "stream",
          "name": "stdout",
          "text": [
            "0\n",
            "1\n",
            "2\n",
            "3\n"
          ]
        }
      ]
    },
    {
      "cell_type": "markdown",
      "source": [
        "### Indexing\n",
        "* Indexing: Each element in a sequence has a position or index, starting from 0 for the first element.\n",
        "* Indexing allows you to access individual elements of a sequence using their position."
      ],
      "metadata": {
        "id": "b8RIBCAiQmQL"
      }
    },
    {
      "cell_type": "markdown",
      "source": [
        "**Indexing in Lists**"
      ],
      "metadata": {
        "id": "l7rU_FBrRkIQ"
      }
    },
    {
      "cell_type": "code",
      "source": [
        "my_list = [10, 20, 30, 40, 50]\n",
        "print (my_list[0])\n",
        "print(my_list[3])\n",
        "print(my_list[-1])\n",
        "print(my_list[-2])\n",
        "my_list[2] = 35\n",
        "print(my_list)\n"
      ],
      "metadata": {
        "colab": {
          "base_uri": "https://localhost:8080/"
        },
        "id": "Fv-60WV5RjYw",
        "outputId": "8a4fb2a6-ce06-4e4a-807e-dfb27ea8c1c9"
      },
      "execution_count": null,
      "outputs": [
        {
          "output_type": "stream",
          "name": "stdout",
          "text": [
            "10\n",
            "40\n",
            "50\n",
            "40\n",
            "[10, 20, 35, 40, 50]\n"
          ]
        }
      ]
    },
    {
      "cell_type": "markdown",
      "source": [
        "#### Zero-Based Indexing\n",
        "\n",
        "\n",
        "Zero-based indexing means that the index starts at 0 for the first element in the sequence. This indexing system is common in many programming languages, including Python."
      ],
      "metadata": {
        "id": "ES-GtGH4SXKN"
      }
    },
    {
      "cell_type": "code",
      "source": [
        "my_list = ['a', 'b', 'c', 'd', 'e']\n",
        "print(my_list[0])\n",
        "print(my_list[1])\n",
        "print(my_list[2])\n"
      ],
      "metadata": {
        "colab": {
          "base_uri": "https://localhost:8080/"
        },
        "id": "VKIEeHe4S0Qb",
        "outputId": "64959d2e-f562-449a-b07b-19c70dac1466"
      },
      "execution_count": null,
      "outputs": [
        {
          "output_type": "stream",
          "name": "stdout",
          "text": [
            "a\n",
            "b\n",
            "c\n"
          ]
        }
      ]
    },
    {
      "cell_type": "markdown",
      "source": [
        "#### Negative indices\n",
        "Negative indices allow you to access elements relative to the end of the sequence. This is particularly useful when you need to refer to the last few elements without knowing the total length of the sequence."
      ],
      "metadata": {
        "id": "1P_L8KScTA14"
      }
    },
    {
      "cell_type": "code",
      "source": [
        "my_list = ['a', 'b', 'c', 'd', 'e']\n",
        "\n",
        "print(my_list[-1])\n",
        "print(my_list[-2])\n",
        "print(my_list[-3])\n"
      ],
      "metadata": {
        "colab": {
          "base_uri": "https://localhost:8080/"
        },
        "id": "8SWT9NCcTPSr",
        "outputId": "69e87f47-d554-49b6-88cf-d0e654cbc41f"
      },
      "execution_count": null,
      "outputs": [
        {
          "output_type": "stream",
          "name": "stdout",
          "text": [
            "e\n",
            "d\n",
            "c\n"
          ]
        }
      ]
    },
    {
      "cell_type": "markdown",
      "source": [
        "### slicing\n",
        "Slicing is a powerful feature in Python that allows you to access sub-parts (or slices) of sequences such as lists, tuples, and strings. It provides a way to retrieve a portion of a sequence by specifying a range of indices.\n",
        "* syntax : sequence[start:stop:step]\n",
        "* start: The index where the slice begins (inclusive).\n",
        " * stop: The index where the slice ends (exclusive).\n",
        " * step: The interval between elements in the slice. If omitted, the default step is 1."
      ],
      "metadata": {
        "id": "uWGzcpcpTter"
      }
    },
    {
      "cell_type": "code",
      "source": [
        "my_list = [10, 20, 30, 40, 50, 60, 70]\n",
        "\n",
        "# Basic slicing\n",
        "print(my_list[1:4])\n",
        "\n",
        "# Slicing with step\n",
        "print(my_list[0:6:2])\n",
        "# Omitting start and stop\n",
        "print(my_list[3:])\n",
        "\n",
        "# Omitting start and stop, but including step\n",
        "print(my_list[::3])\n"
      ],
      "metadata": {
        "colab": {
          "base_uri": "https://localhost:8080/"
        },
        "id": "Ipsw8uiJUWMl",
        "outputId": "e1374234-0453-4652-ca14-5b8b66d80895"
      },
      "execution_count": null,
      "outputs": [
        {
          "output_type": "stream",
          "name": "stdout",
          "text": [
            "[20, 30, 40]\n",
            "[10, 30, 50]\n",
            "[40, 50, 60, 70]\n",
            "[10, 40, 70]\n"
          ]
        }
      ]
    },
    {
      "cell_type": "markdown",
      "source": [
        "### slicing in Tuples\n",
        "\n",
        "\n"
      ],
      "metadata": {
        "id": "2BXVJIdyU_Eo"
      }
    },
    {
      "cell_type": "code",
      "source": [
        "my_tuple = (1, 2, 3, 4, 5, 6, 7)\n",
        "\n",
        "# Basic slicing\n",
        "print(my_tuple[2:5])\n",
        "\n",
        "# Slicing with step\n",
        "print(my_tuple[1:6:2])\n",
        "# Omitting start and stop\n",
        "print(my_tuple[4:])\n",
        "# Omitting start and stop, but including step\n",
        "print(my_tuple[::2])"
      ],
      "metadata": {
        "colab": {
          "base_uri": "https://localhost:8080/"
        },
        "id": "AeEdUVTPVGVn",
        "outputId": "31b6bc14-682d-464c-dd17-2e1e0ae3f9bb"
      },
      "execution_count": null,
      "outputs": [
        {
          "output_type": "stream",
          "name": "stdout",
          "text": [
            "(3, 4, 5)\n",
            "(2, 4, 6)\n",
            "(5, 6, 7)\n",
            "(1, 3, 5, 7)\n"
          ]
        }
      ]
    },
    {
      "cell_type": "markdown",
      "source": [
        "### Slicing in strings\n"
      ],
      "metadata": {
        "id": "Q6CEsxebV2xP"
      }
    },
    {
      "cell_type": "code",
      "source": [
        "my_string = \"Hello, World!\"\n",
        "\n",
        "# Basic slicing\n",
        "print(my_string[7:12])\n",
        "# Slicing with step\n",
        "print(my_string[::2])\n",
        "# Omitting start and stop\n",
        "print(my_string[6:])\n",
        "# Omitting start and stop, but including step\n",
        "print(my_string[::-1])"
      ],
      "metadata": {
        "colab": {
          "base_uri": "https://localhost:8080/"
        },
        "id": "H5sm20W6WHoX",
        "outputId": "8a58b813-6aee-4cd6-f5e1-dcba85d98beb"
      },
      "execution_count": null,
      "outputs": [
        {
          "output_type": "stream",
          "name": "stdout",
          "text": [
            "World\n",
            "Hlo ol!\n",
            " World!\n",
            "!dlroW ,olleH\n"
          ]
        }
      ]
    },
    {
      "cell_type": "markdown",
      "source": [
        "#### Understanding Print statements  \n",
        "* The print() function in Python is used to output data to the console. It can display strings, variables, and more complex expressions.\n",
        " * The Print()  function is used to output data to console\n",
        " #### `Basic print statement`\n",
        "`print(\"Hello, World!\")`"
      ],
      "metadata": {
        "id": "UguXD9HxDRgW"
      }
    },
    {
      "cell_type": "code",
      "source": [
        "name = \"Alice\"\n",
        "age = 25\n",
        "print(\"Name:\", name, \"Age:\", age)\n"
      ],
      "metadata": {
        "colab": {
          "base_uri": "https://localhost:8080/"
        },
        "id": "S1sllwrvGaIb",
        "outputId": "0755af4f-80da-46d1-cb15-0385679d8cb5"
      },
      "execution_count": 1,
      "outputs": [
        {
          "output_type": "stream",
          "name": "stdout",
          "text": [
            "Name: Alice Age: 25\n"
          ]
        }
      ]
    },
    {
      "cell_type": "markdown",
      "source": [
        "The `end` Parameter\n",
        "* The `end` parameter in the `print()` function in Python controls what is printed at the end of the output. By default, the end parameter is set to a newline character `(\\n)`."
      ],
      "metadata": {
        "id": "lB-ohitcGwgZ"
      }
    },
    {
      "cell_type": "code",
      "source": [
        "# using `end` parameter\n",
        "print(\"Hello,\" , end=' ')\n",
        "print(\"World!\")"
      ],
      "metadata": {
        "colab": {
          "base_uri": "https://localhost:8080/"
        },
        "id": "mg3p3KRwHucg",
        "outputId": "b6100713-9802-471a-dd07-28b5b1d920b4"
      },
      "execution_count": 17,
      "outputs": [
        {
          "output_type": "stream",
          "name": "stdout",
          "text": [
            "Hello, World!\n"
          ]
        }
      ]
    },
    {
      "cell_type": "markdown",
      "source": [
        "The `Seprator` parameter\n",
        "* The sep parameter in Python's print() function controls the separator that is used between multiple values in a single print() statement\n"
      ],
      "metadata": {
        "id": "U0czSUL1Nytv"
      }
    },
    {
      "cell_type": "code",
      "source": [
        "# using sep parameter\n",
        "print(\"2024\",\"05\", \" 22\", sep='-')"
      ],
      "metadata": {
        "colab": {
          "base_uri": "https://localhost:8080/"
        },
        "id": "fyTHOuJYOL4c",
        "outputId": "5b3e811e-bb17-44a0-ae93-e7b0a1d89ab3"
      },
      "execution_count": 21,
      "outputs": [
        {
          "output_type": "stream",
          "name": "stdout",
          "text": [
            "2024-05- 22\n"
          ]
        }
      ]
    },
    {
      "cell_type": "markdown",
      "source": [
        "#### conditional statements\n",
        "* `if` statement The if statement is used to test a condition. If the condition evaluates to True, the block of code under the if statement is executed.\n",
        "* `elif`statement  allows you to check multiple conditions\n",
        "* `else`statement provides alternative block `if`condition is `false`\n",
        "* This basic structure of if, elif, and else is fundamental for implementing conditional logic in Python, allowing your programs to make decisions and respond dynamically to different inputs and situations."
      ],
      "metadata": {
        "id": "lXkhHb3aPPCb"
      }
    },
    {
      "cell_type": "markdown",
      "source": [
        "### Nested  conditions\n",
        "* Nested if-else statements are used when you need to check multiple conditions that depend on each other. You place one if-else block inside another to handle more complex decision-making."
      ],
      "metadata": {
        "id": "OQuqF5R0RoP-"
      }
    },
    {
      "cell_type": "markdown",
      "source": [
        "####Ternary Conditional Operator\n",
        "* The ternary conditional operator in Python is a concise way to evaluate a condition and return a value based on whether the condition is True or False. It allows you to write simple if-else logic in a single line."
      ],
      "metadata": {
        "id": "5Jf6jn2tSSBV"
      }
    },
    {
      "cell_type": "code",
      "source": [],
      "metadata": {
        "id": "56-aXx_eP3hR"
      },
      "execution_count": null,
      "outputs": []
    }
  ]
}